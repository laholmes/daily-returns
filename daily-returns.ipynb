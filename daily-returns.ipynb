{
 "cells": [
  {
   "cell_type": "markdown",
   "metadata": {},
   "source": [
    "# Investigating the month effect in equity indices\n",
    "\n",
    "From Quantpedia (https://quantpedia.com/screener/Details/41):\n",
    "The turn of the month is well known effect on stock indexes which states that stocks prices usually increase during the last four days and the first three days of each month. Therefore it is possible to capture a substantial part of equity return only during this fraction of market time and stay invested in safe cash during rest of the year.\n",
    "\n",
    "We investigate the profitability of an investing strategy based on the month effect - going long S&P500 index 4 days before the end of each month, and exiting the position after the 3rd day of each month.\n",
    "\n",
    "We ignore transaction costs, considerations around position sizing, entry/exit strategy.\n"
   ]
  },
  {
   "cell_type": "code",
   "execution_count": null,
   "metadata": {
    "collapsed": true
   },
   "outputs": [],
   "source": [
    "# import dependencies"
   ]
  },
  {
   "cell_type": "code",
   "execution_count": 28,
   "metadata": {
    "collapsed": true
   },
   "outputs": [],
   "source": [
    "import pandas as pd\n",
    "import numpy as np\n",
    "import matplotlib.pyplot as plt"
   ]
  },
  {
   "cell_type": "code",
   "execution_count": null,
   "metadata": {
    "collapsed": true
   },
   "outputs": [],
   "source": [
    "# load data"
   ]
  },
  {
   "cell_type": "code",
   "execution_count": 29,
   "metadata": {
    "collapsed": true
   },
   "outputs": [],
   "source": [
    "data = pd.read_csv('./gspc.csv', parse_dates=['Date'])"
   ]
  },
  {
   "cell_type": "code",
   "execution_count": 39,
   "metadata": {},
   "outputs": [
    {
     "data": {
      "text/html": [
       "<div>\n",
       "<table border=\"1\" class=\"dataframe\">\n",
       "  <thead>\n",
       "    <tr style=\"text-align: right;\">\n",
       "      <th></th>\n",
       "      <th>Date</th>\n",
       "      <th>Open</th>\n",
       "      <th>High</th>\n",
       "      <th>Low</th>\n",
       "      <th>Close</th>\n",
       "      <th>Adj Close</th>\n",
       "      <th>Volume</th>\n",
       "      <th>Return</th>\n",
       "    </tr>\n",
       "    <tr>\n",
       "      <th>Date</th>\n",
       "      <th></th>\n",
       "      <th></th>\n",
       "      <th></th>\n",
       "      <th></th>\n",
       "      <th></th>\n",
       "      <th></th>\n",
       "      <th></th>\n",
       "      <th></th>\n",
       "    </tr>\n",
       "  </thead>\n",
       "  <tbody>\n",
       "    <tr>\n",
       "      <th>2012-09-26</th>\n",
       "      <td>2012-09-26</td>\n",
       "      <td>1441.599976</td>\n",
       "      <td>1441.599976</td>\n",
       "      <td>1430.530029</td>\n",
       "      <td>1433.319946</td>\n",
       "      <td>1433.319946</td>\n",
       "      <td>3565380000</td>\n",
       "      <td>-0.005737</td>\n",
       "    </tr>\n",
       "    <tr>\n",
       "      <th>2012-09-27</th>\n",
       "      <td>2012-09-27</td>\n",
       "      <td>1433.359985</td>\n",
       "      <td>1450.199951</td>\n",
       "      <td>1433.359985</td>\n",
       "      <td>1447.150024</td>\n",
       "      <td>1447.150024</td>\n",
       "      <td>3150330000</td>\n",
       "      <td>0.009649</td>\n",
       "    </tr>\n",
       "    <tr>\n",
       "      <th>2012-09-28</th>\n",
       "      <td>2012-09-28</td>\n",
       "      <td>1447.130005</td>\n",
       "      <td>1447.130005</td>\n",
       "      <td>1435.599976</td>\n",
       "      <td>1440.670044</td>\n",
       "      <td>1440.670044</td>\n",
       "      <td>3509230000</td>\n",
       "      <td>-0.004478</td>\n",
       "    </tr>\n",
       "    <tr>\n",
       "      <th>2012-10-01</th>\n",
       "      <td>2012-10-01</td>\n",
       "      <td>1440.900024</td>\n",
       "      <td>1457.140015</td>\n",
       "      <td>1440.900024</td>\n",
       "      <td>1444.489990</td>\n",
       "      <td>1444.489990</td>\n",
       "      <td>3505080000</td>\n",
       "      <td>0.002652</td>\n",
       "    </tr>\n",
       "    <tr>\n",
       "      <th>2012-10-02</th>\n",
       "      <td>2012-10-02</td>\n",
       "      <td>1444.989990</td>\n",
       "      <td>1451.520020</td>\n",
       "      <td>1439.010010</td>\n",
       "      <td>1445.750000</td>\n",
       "      <td>1445.750000</td>\n",
       "      <td>3321790000</td>\n",
       "      <td>0.000872</td>\n",
       "    </tr>\n",
       "  </tbody>\n",
       "</table>\n",
       "</div>"
      ],
      "text/plain": [
       "                 Date         Open         High          Low        Close  \\\n",
       "Date                                                                        \n",
       "2012-09-26 2012-09-26  1441.599976  1441.599976  1430.530029  1433.319946   \n",
       "2012-09-27 2012-09-27  1433.359985  1450.199951  1433.359985  1447.150024   \n",
       "2012-09-28 2012-09-28  1447.130005  1447.130005  1435.599976  1440.670044   \n",
       "2012-10-01 2012-10-01  1440.900024  1457.140015  1440.900024  1444.489990   \n",
       "2012-10-02 2012-10-02  1444.989990  1451.520020  1439.010010  1445.750000   \n",
       "\n",
       "              Adj Close      Volume    Return  \n",
       "Date                                           \n",
       "2012-09-26  1433.319946  3565380000 -0.005737  \n",
       "2012-09-27  1447.150024  3150330000  0.009649  \n",
       "2012-09-28  1440.670044  3509230000 -0.004478  \n",
       "2012-10-01  1444.489990  3505080000  0.002652  \n",
       "2012-10-02  1445.750000  3321790000  0.000872  "
      ]
     },
     "execution_count": 39,
     "metadata": {},
     "output_type": "execute_result"
    }
   ],
   "source": [
    "data.head()\n",
    "data = data.set_index(pd.DatetimeIndex(data['Date'], drop=True))\n",
    "data.head()"
   ]
  },
  {
   "cell_type": "code",
   "execution_count": 31,
   "metadata": {},
   "outputs": [
    {
     "data": {
      "image/png": "[encoded data removed]",
      "text/plain": [
       "<matplotlib.figure.Figure at 0x10b90a588>"
      ]
     },
     "metadata": {},
     "output_type": "display_data"
    }
   ],
   "source": [
    "plt.plot(data['Close'])\n",
    "    \n",
    "plt.legend(loc='upper left')\n",
    "plt.show()"
   ]
  },
  {
   "cell_type": "code",
   "execution_count": 32,
   "metadata": {},
   "outputs": [
    {
     "data": {
      "image/png": "[encoded data removed]",
      "text/plain": [
       "<matplotlib.figure.Figure at 0x10b94c320>"
      ]
     },
     "metadata": {},
     "output_type": "display_data"
    }
   ],
   "source": [
    "plt.plot(data['Open'])\n",
    "    \n",
    "plt.legend(loc='upper left')\n",
    "plt.show()"
   ]
  },
  {
   "cell_type": "code",
   "execution_count": null,
   "metadata": {
    "collapsed": true
   },
   "outputs": [],
   "source": [
    "# calculate daily returns"
   ]
  },
  {
   "cell_type": "code",
   "execution_count": 33,
   "metadata": {
    "collapsed": true
   },
   "outputs": [],
   "source": [
    "data['Return'] = (data['Close'] - data['Close'].shift()) / data['Close'].shift()"
   ]
  },
  {
   "cell_type": "code",
   "execution_count": 34,
   "metadata": {},
   "outputs": [
    {
     "data": {
      "text/html": [
       "<div>\n",
       "<table border=\"1\" class=\"dataframe\">\n",
       "  <thead>\n",
       "    <tr style=\"text-align: right;\">\n",
       "      <th></th>\n",
       "      <th>Date</th>\n",
       "      <th>Open</th>\n",
       "      <th>High</th>\n",
       "      <th>Low</th>\n",
       "      <th>Close</th>\n",
       "      <th>Adj Close</th>\n",
       "      <th>Volume</th>\n",
       "      <th>Return</th>\n",
       "    </tr>\n",
       "    <tr>\n",
       "      <th>Date</th>\n",
       "      <th></th>\n",
       "      <th></th>\n",
       "      <th></th>\n",
       "      <th></th>\n",
       "      <th></th>\n",
       "      <th></th>\n",
       "      <th></th>\n",
       "      <th></th>\n",
       "    </tr>\n",
       "  </thead>\n",
       "  <tbody>\n",
       "    <tr>\n",
       "      <th>2012-09-26</th>\n",
       "      <td>2012-09-26</td>\n",
       "      <td>1441.599976</td>\n",
       "      <td>1441.599976</td>\n",
       "      <td>1430.530029</td>\n",
       "      <td>1433.319946</td>\n",
       "      <td>1433.319946</td>\n",
       "      <td>3565380000</td>\n",
       "      <td>-0.005737</td>\n",
       "    </tr>\n",
       "    <tr>\n",
       "      <th>2012-09-27</th>\n",
       "      <td>2012-09-27</td>\n",
       "      <td>1433.359985</td>\n",
       "      <td>1450.199951</td>\n",
       "      <td>1433.359985</td>\n",
       "      <td>1447.150024</td>\n",
       "      <td>1447.150024</td>\n",
       "      <td>3150330000</td>\n",
       "      <td>0.009649</td>\n",
       "    </tr>\n",
       "    <tr>\n",
       "      <th>2012-09-28</th>\n",
       "      <td>2012-09-28</td>\n",
       "      <td>1447.130005</td>\n",
       "      <td>1447.130005</td>\n",
       "      <td>1435.599976</td>\n",
       "      <td>1440.670044</td>\n",
       "      <td>1440.670044</td>\n",
       "      <td>3509230000</td>\n",
       "      <td>-0.004478</td>\n",
       "    </tr>\n",
       "    <tr>\n",
       "      <th>2012-10-01</th>\n",
       "      <td>2012-10-01</td>\n",
       "      <td>1440.900024</td>\n",
       "      <td>1457.140015</td>\n",
       "      <td>1440.900024</td>\n",
       "      <td>1444.489990</td>\n",
       "      <td>1444.489990</td>\n",
       "      <td>3505080000</td>\n",
       "      <td>0.002652</td>\n",
       "    </tr>\n",
       "    <tr>\n",
       "      <th>2012-10-02</th>\n",
       "      <td>2012-10-02</td>\n",
       "      <td>1444.989990</td>\n",
       "      <td>1451.520020</td>\n",
       "      <td>1439.010010</td>\n",
       "      <td>1445.750000</td>\n",
       "      <td>1445.750000</td>\n",
       "      <td>3321790000</td>\n",
       "      <td>0.000872</td>\n",
       "    </tr>\n",
       "  </tbody>\n",
       "</table>\n",
       "</div>"
      ],
      "text/plain": [
       "                 Date         Open         High          Low        Close  \\\n",
       "Date                                                                        \n",
       "2012-09-26 2012-09-26  1441.599976  1441.599976  1430.530029  1433.319946   \n",
       "2012-09-27 2012-09-27  1433.359985  1450.199951  1433.359985  1447.150024   \n",
       "2012-09-28 2012-09-28  1447.130005  1447.130005  1435.599976  1440.670044   \n",
       "2012-10-01 2012-10-01  1440.900024  1457.140015  1440.900024  1444.489990   \n",
       "2012-10-02 2012-10-02  1444.989990  1451.520020  1439.010010  1445.750000   \n",
       "\n",
       "              Adj Close      Volume    Return  \n",
       "Date                                           \n",
       "2012-09-26  1433.319946  3565380000 -0.005737  \n",
       "2012-09-27  1447.150024  3150330000  0.009649  \n",
       "2012-09-28  1440.670044  3509230000 -0.004478  \n",
       "2012-10-01  1444.489990  3505080000  0.002652  \n",
       "2012-10-02  1445.750000  3321790000  0.000872  "
      ]
     },
     "execution_count": 34,
     "metadata": {},
     "output_type": "execute_result"
    }
   ],
   "source": [
    "data.head()\n",
    "data = data.iloc[1:] \n",
    "data.head()"
   ]
  },
  {
   "cell_type": "code",
   "execution_count": 35,
   "metadata": {},
   "outputs": [
    {
     "data": {
      "image/png": "[encoded data removed]",
      "text/plain": [
       "<matplotlib.figure.Figure at 0x10ba1e2e8>"
      ]
     },
     "metadata": {},
     "output_type": "display_data"
    }
   ],
   "source": [
    "plt.plot(data['Return'])\n",
    "    \n",
    "plt.legend(loc='upper left')\n",
    "plt.show()"
   ]
  },
  {
   "cell_type": "code",
   "execution_count": 36,
   "metadata": {
    "collapsed": true
   },
   "outputs": [],
   "source": [
    "# get returns for each end-of-month period\n",
    "\n",
    "\n",
    "# then get distribution 14th-21st of each month\n",
    "\n",
    "\n",
    "# end = data.loc[(data['Date'].day in range(data['Date'].day.days_in_month - 4, data['Date'].day.days_in_month) or\n",
    "#                 data['Date'].day <= 3)]\n",
    "\n",
    "mid = data.loc[pd.DatetimeIndex(data['Date']).day in range(14, 21)]\n",
    "mid\n",
    "\n"
   ]
  },
  {
   "cell_type": "code",
   "execution_count": null,
   "metadata": {
    "collapsed": true
   },
   "outputs": [],
   "source": [
    "# calculate cumulative returns over the entire period"
   ]
  },
  {
   "cell_type": "code",
   "execution_count": null,
   "metadata": {
    "collapsed": true
   },
   "outputs": [],
   "source": [
    "# compare to market returns outside this period\n",
    "# note: we could potentially be introducing bias based on our mid-month date range selection, but not obvious"
   ]
  },
  {
   "cell_type": "code",
   "execution_count": null,
   "metadata": {
    "collapsed": true
   },
   "outputs": [],
   "source": [
    "\n",
    "\n",
    "# then get distribution 14th-21st of each month\n",
    "\n",
    "\n",
    "# end = data.loc[(data['Date'].day in range(data['Date'].day.days_in_month - 4, data['Date'].day.days_in_month) or\n",
    "#                 data['Date'].day <= 3)]\n",
    "\n",
    "mid = data.loc[pd.DatetimeIndex(data['Date']).day in range(14, 21)]\n",
    "mid\n",
    "\n"
   ]
  },
  {
   "cell_type": "code",
   "execution_count": null,
   "metadata": {
    "collapsed": true
   },
   "outputs": [],
   "source": [
    "# test for statistical signifance"
   ]
  },
  {
   "cell_type": "code",
   "execution_count": null,
   "metadata": {
    "collapsed": true
   },
   "outputs": [],
   "source": []
  },
  {
   "cell_type": "code",
   "execution_count": null,
   "metadata": {
    "collapsed": true
   },
   "outputs": [],
   "source": [
    "# risk ratio calculation\n"
   ]
  },
  {
   "cell_type": "code",
   "execution_count": null,
   "metadata": {
    "collapsed": true
   },
   "outputs": [],
   "source": [
    "# compare risk ratios to market risk ratios"
   ]
  },
  {
   "cell_type": "code",
   "execution_count": null,
   "metadata": {
    "collapsed": true
   },
   "outputs": [],
   "source": [
    "inc vol, sharpe"
   ]
  }
 ],
 "metadata": {
  "kernelspec": {
   "display_name": "Python 3",
   "language": "python",
   "name": "python3"
  },
  "language_info": {
   "codemirror_mode": {
    "name": "ipython",
    "version": 3
   },
   "file_extension": ".py",
   "mimetype": "text/x-python",
   "name": "python",
   "nbconvert_exporter": "python",
   "pygments_lexer": "ipython3",
   "version": "3.6.1"
  }
 },
 "nbformat": 4,
 "nbformat_minor": 2
}
