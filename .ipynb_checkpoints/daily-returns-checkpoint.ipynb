{
 "cells": [
  {
   "cell_type": "markdown",
   "metadata": {},
   "source": [
    "# Investigating the month effect in equity indices\n",
    "\n",
    "From Quantpedia (https://quantpedia.com/screener/Details/41):\n",
    "The turn of the month is well known effect on stock indexes which states that stocks prices usually increase during the last four days and the first three days of each month. Therefore it is possible to capture a substantial part of equity return only during this fraction of market time and stay invested in safe cash during rest of the year.\n",
    "\n",
    "We investigate the profitability of an investing strategy based on the month effect - going long S&P500 index 4 days before the end of each month, and exiting the position after the 3rd day of each month.\n",
    "\n",
    "We ignore transaction costs, considerations around position sizing, entry/exit strategy.\n"
   ]
  },
  {
   "cell_type": "code",
   "execution_count": 220,
   "metadata": {
    "collapsed": true
   },
   "outputs": [],
   "source": [
    "# import dependencies\n",
    "import pandas as pd\n",
    "import numpy as np\n",
    "import matplotlib.pyplot as plt"
   ]
  },
  {
   "cell_type": "code",
   "execution_count": 221,
   "metadata": {
    "collapsed": true
   },
   "outputs": [],
   "source": [
    "# load data\n",
    "data = pd.read_csv('./gspc.csv', parse_dates=['Date'])"
   ]
  },
  {
   "cell_type": "code",
   "execution_count": 222,
   "metadata": {},
   "outputs": [
    {
     "data": {
      "text/html": [
       "<div>\n",
       "<style>\n",
       "    .dataframe thead tr:only-child th {\n",
       "        text-align: right;\n",
       "    }\n",
       "\n",
       "    .dataframe thead th {\n",
       "        text-align: left;\n",
       "    }\n",
       "\n",
       "    .dataframe tbody tr th {\n",
       "        vertical-align: top;\n",
       "    }\n",
       "</style>\n",
       "<table border=\"1\" class=\"dataframe\">\n",
       "  <thead>\n",
       "    <tr style=\"text-align: right;\">\n",
       "      <th></th>\n",
       "      <th>Open</th>\n",
       "      <th>High</th>\n",
       "      <th>Low</th>\n",
       "      <th>Close</th>\n",
       "      <th>Adj Close</th>\n",
       "      <th>Volume</th>\n",
       "    </tr>\n",
       "    <tr>\n",
       "      <th>Date</th>\n",
       "      <th></th>\n",
       "      <th></th>\n",
       "      <th></th>\n",
       "      <th></th>\n",
       "      <th></th>\n",
       "      <th></th>\n",
       "    </tr>\n",
       "  </thead>\n",
       "  <tbody>\n",
       "    <tr>\n",
       "      <th>2012-09-25</th>\n",
       "      <td>1456.939941</td>\n",
       "      <td>1463.239990</td>\n",
       "      <td>1441.589966</td>\n",
       "      <td>1441.589966</td>\n",
       "      <td>1441.589966</td>\n",
       "      <td>3739900000</td>\n",
       "    </tr>\n",
       "    <tr>\n",
       "      <th>2012-09-26</th>\n",
       "      <td>1441.599976</td>\n",
       "      <td>1441.599976</td>\n",
       "      <td>1430.530029</td>\n",
       "      <td>1433.319946</td>\n",
       "      <td>1433.319946</td>\n",
       "      <td>3565380000</td>\n",
       "    </tr>\n",
       "    <tr>\n",
       "      <th>2012-09-27</th>\n",
       "      <td>1433.359985</td>\n",
       "      <td>1450.199951</td>\n",
       "      <td>1433.359985</td>\n",
       "      <td>1447.150024</td>\n",
       "      <td>1447.150024</td>\n",
       "      <td>3150330000</td>\n",
       "    </tr>\n",
       "    <tr>\n",
       "      <th>2012-09-28</th>\n",
       "      <td>1447.130005</td>\n",
       "      <td>1447.130005</td>\n",
       "      <td>1435.599976</td>\n",
       "      <td>1440.670044</td>\n",
       "      <td>1440.670044</td>\n",
       "      <td>3509230000</td>\n",
       "    </tr>\n",
       "    <tr>\n",
       "      <th>2012-10-01</th>\n",
       "      <td>1440.900024</td>\n",
       "      <td>1457.140015</td>\n",
       "      <td>1440.900024</td>\n",
       "      <td>1444.489990</td>\n",
       "      <td>1444.489990</td>\n",
       "      <td>3505080000</td>\n",
       "    </tr>\n",
       "  </tbody>\n",
       "</table>\n",
       "</div>"
      ],
      "text/plain": [
       "                   Open         High          Low        Close    Adj Close  \\\n",
       "Date                                                                          \n",
       "2012-09-25  1456.939941  1463.239990  1441.589966  1441.589966  1441.589966   \n",
       "2012-09-26  1441.599976  1441.599976  1430.530029  1433.319946  1433.319946   \n",
       "2012-09-27  1433.359985  1450.199951  1433.359985  1447.150024  1447.150024   \n",
       "2012-09-28  1447.130005  1447.130005  1435.599976  1440.670044  1440.670044   \n",
       "2012-10-01  1440.900024  1457.140015  1440.900024  1444.489990  1444.489990   \n",
       "\n",
       "                Volume  \n",
       "Date                    \n",
       "2012-09-25  3739900000  \n",
       "2012-09-26  3565380000  \n",
       "2012-09-27  3150330000  \n",
       "2012-09-28  3509230000  \n",
       "2012-10-01  3505080000  "
      ]
     },
     "execution_count": 222,
     "metadata": {},
     "output_type": "execute_result"
    }
   ],
   "source": [
    "data.head()\n",
    "data = data.set_index(['Date'])\n",
    "data.head()"
   ]
  },
  {
   "cell_type": "code",
   "execution_count": 223,
   "metadata": {},
   "outputs": [
    {
     "data": {
      "image/png": "[encoded data removed]",
      "text/plain": [
       "<matplotlib.figure.Figure at 0x1173dccc0>"
      ]
     },
     "metadata": {},
     "output_type": "display_data"
    }
   ],
   "source": [
    "plt.plot(data['Close'])\n",
    "    \n",
    "plt.legend(loc='upper left')\n",
    "plt.show()"
   ]
  },
  {
   "cell_type": "code",
   "execution_count": 224,
   "metadata": {},
   "outputs": [
    {
     "data": {
      "image/png": "[encoded data removed]",
      "text/plain": [
       "<matplotlib.figure.Figure at 0x119099278>"
      ]
     },
     "metadata": {},
     "output_type": "display_data"
    }
   ],
   "source": [
    "plt.plot(data['Open']) \n",
    "plt.legend(loc='upper left')\n",
    "plt.show()"
   ]
  },
  {
   "cell_type": "code",
   "execution_count": 225,
   "metadata": {
    "collapsed": true
   },
   "outputs": [],
   "source": [
    "# calculate daily returns"
   ]
  },
  {
   "cell_type": "code",
   "execution_count": 226,
   "metadata": {
    "collapsed": true
   },
   "outputs": [],
   "source": [
    "data['Return'] = (data['Close'] - data['Close'].shift()) / data['Close'].shift()\n",
    "# first row has no return as no previous value\n",
    "data = data.iloc[1:] "
   ]
  },
  {
   "cell_type": "code",
   "execution_count": 227,
   "metadata": {},
   "outputs": [
    {
     "data": {
      "text/html": [
       "<div>\n",
       "<style>\n",
       "    .dataframe thead tr:only-child th {\n",
       "        text-align: right;\n",
       "    }\n",
       "\n",
       "    .dataframe thead th {\n",
       "        text-align: left;\n",
       "    }\n",
       "\n",
       "    .dataframe tbody tr th {\n",
       "        vertical-align: top;\n",
       "    }\n",
       "</style>\n",
       "<table border=\"1\" class=\"dataframe\">\n",
       "  <thead>\n",
       "    <tr style=\"text-align: right;\">\n",
       "      <th></th>\n",
       "      <th>Open</th>\n",
       "      <th>High</th>\n",
       "      <th>Low</th>\n",
       "      <th>Close</th>\n",
       "      <th>Adj Close</th>\n",
       "      <th>Volume</th>\n",
       "      <th>Return</th>\n",
       "    </tr>\n",
       "    <tr>\n",
       "      <th>Date</th>\n",
       "      <th></th>\n",
       "      <th></th>\n",
       "      <th></th>\n",
       "      <th></th>\n",
       "      <th></th>\n",
       "      <th></th>\n",
       "      <th></th>\n",
       "    </tr>\n",
       "  </thead>\n",
       "  <tbody>\n",
       "    <tr>\n",
       "      <th>2012-09-26</th>\n",
       "      <td>1441.599976</td>\n",
       "      <td>1441.599976</td>\n",
       "      <td>1430.530029</td>\n",
       "      <td>1433.319946</td>\n",
       "      <td>1433.319946</td>\n",
       "      <td>3565380000</td>\n",
       "      <td>-0.005737</td>\n",
       "    </tr>\n",
       "    <tr>\n",
       "      <th>2012-09-27</th>\n",
       "      <td>1433.359985</td>\n",
       "      <td>1450.199951</td>\n",
       "      <td>1433.359985</td>\n",
       "      <td>1447.150024</td>\n",
       "      <td>1447.150024</td>\n",
       "      <td>3150330000</td>\n",
       "      <td>0.009649</td>\n",
       "    </tr>\n",
       "    <tr>\n",
       "      <th>2012-09-28</th>\n",
       "      <td>1447.130005</td>\n",
       "      <td>1447.130005</td>\n",
       "      <td>1435.599976</td>\n",
       "      <td>1440.670044</td>\n",
       "      <td>1440.670044</td>\n",
       "      <td>3509230000</td>\n",
       "      <td>-0.004478</td>\n",
       "    </tr>\n",
       "    <tr>\n",
       "      <th>2012-10-01</th>\n",
       "      <td>1440.900024</td>\n",
       "      <td>1457.140015</td>\n",
       "      <td>1440.900024</td>\n",
       "      <td>1444.489990</td>\n",
       "      <td>1444.489990</td>\n",
       "      <td>3505080000</td>\n",
       "      <td>0.002652</td>\n",
       "    </tr>\n",
       "    <tr>\n",
       "      <th>2012-10-02</th>\n",
       "      <td>1444.989990</td>\n",
       "      <td>1451.520020</td>\n",
       "      <td>1439.010010</td>\n",
       "      <td>1445.750000</td>\n",
       "      <td>1445.750000</td>\n",
       "      <td>3321790000</td>\n",
       "      <td>0.000872</td>\n",
       "    </tr>\n",
       "  </tbody>\n",
       "</table>\n",
       "</div>"
      ],
      "text/plain": [
       "                   Open         High          Low        Close    Adj Close  \\\n",
       "Date                                                                          \n",
       "2012-09-26  1441.599976  1441.599976  1430.530029  1433.319946  1433.319946   \n",
       "2012-09-27  1433.359985  1450.199951  1433.359985  1447.150024  1447.150024   \n",
       "2012-09-28  1447.130005  1447.130005  1435.599976  1440.670044  1440.670044   \n",
       "2012-10-01  1440.900024  1457.140015  1440.900024  1444.489990  1444.489990   \n",
       "2012-10-02  1444.989990  1451.520020  1439.010010  1445.750000  1445.750000   \n",
       "\n",
       "                Volume    Return  \n",
       "Date                              \n",
       "2012-09-26  3565380000 -0.005737  \n",
       "2012-09-27  3150330000  0.009649  \n",
       "2012-09-28  3509230000 -0.004478  \n",
       "2012-10-01  3505080000  0.002652  \n",
       "2012-10-02  3321790000  0.000872  "
      ]
     },
     "execution_count": 227,
     "metadata": {},
     "output_type": "execute_result"
    }
   ],
   "source": [
    "data.head()"
   ]
  },
  {
   "cell_type": "code",
   "execution_count": 228,
   "metadata": {},
   "outputs": [
    {
     "data": {
      "image/png": "[encoded data removed]",
      "text/plain": [
       "<matplotlib.figure.Figure at 0x119146940>"
      ]
     },
     "metadata": {},
     "output_type": "display_data"
    }
   ],
   "source": [
    "plt.plot(data['Return'])\n",
    "plt.legend(loc='upper left')\n",
    "plt.show()"
   ]
  },
  {
   "cell_type": "code",
   "execution_count": 229,
   "metadata": {},
   "outputs": [],
   "source": [
    "# get returns for each end-of-month period\n",
    "# sometimes end of month falls over the weekend, so we don't have an equal num of trading days in each window\n",
    "data_end_month = data[(data.index.day <= 3) | (data.index.day >= (data.index.days_in_month - 3))]\n",
    "\n",
    "# then get returns 14th-21st of each month for comparison\n",
    "# note: we could potentially be introducing bias based on our mid-month date range selection, but not obvious\n",
    "data_mid_month = data[(data.index.day >= 14) & (data.index.day <= 21)]"
   ]
  },
  {
   "cell_type": "code",
   "execution_count": 230,
   "metadata": {},
   "outputs": [
    {
     "data": {
      "image/png": "[encoded data removed]",
      "text/plain": [
       "<matplotlib.figure.Figure at 0x1190992b0>"
      ]
     },
     "metadata": {},
     "output_type": "display_data"
    }
   ],
   "source": [
    "data_end_month.describe()\n",
    "data_end_month['Return'].plot.density(label='End Month Returns')\n",
    "data_mid_month['Return'].plot.density(label='Mid Month Returns')\n",
    "plt.legend(loc='upper left')\n",
    "plt.show()"
   ]
  },
  {
   "cell_type": "code",
   "execution_count": 231,
   "metadata": {},
   "outputs": [
    {
     "data": {
      "text/plain": [
       "0.0005317085339192448"
      ]
     },
     "execution_count": 231,
     "metadata": {},
     "output_type": "execute_result"
    }
   ],
   "source": [
    "# average return end-of-month\n",
    "data_end_month['Return'].mean()"
   ]
  },
  {
   "cell_type": "code",
   "execution_count": 232,
   "metadata": {},
   "outputs": [
    {
     "data": {
      "text/plain": [
       "0.007662071087761039"
      ]
     },
     "execution_count": 232,
     "metadata": {},
     "output_type": "execute_result"
    }
   ],
   "source": [
    "# return vol end-of-month\n",
    "data_end_month['Return'].std()"
   ]
  },
  {
   "cell_type": "code",
   "execution_count": 233,
   "metadata": {},
   "outputs": [
    {
     "data": {
      "text/plain": [
       "0.0011576040129620746"
      ]
     },
     "execution_count": 233,
     "metadata": {},
     "output_type": "execute_result"
    }
   ],
   "source": [
    "# average return mid-month\n",
    "data_mid_month['Return'].mean()"
   ]
  },
  {
   "cell_type": "code",
   "execution_count": 234,
   "metadata": {},
   "outputs": [
    {
     "data": {
      "text/plain": [
       "0.007434854459778252"
      ]
     },
     "execution_count": 234,
     "metadata": {},
     "output_type": "execute_result"
    }
   ],
   "source": [
    "# return vol mid-month\n",
    "data_mid_month['Return'].std()"
   ]
  },
  {
   "cell_type": "code",
   "execution_count": 235,
   "metadata": {},
   "outputs": [
    {
     "data": {
      "text/plain": [
       "Ks_2sampResult(statistic=0.089911067614144136, pvalue=0.16033659568644149)"
      ]
     },
     "execution_count": 235,
     "metadata": {},
     "output_type": "execute_result"
    }
   ],
   "source": [
    "# 2-sided KS-test to test if samples are from the same distribution\n",
    "from scipy.stats import ks_2samp\n",
    "np.random.seed(713461)\n",
    "ks_2samp(data_end_month['Return'], data_mid_month['Return'])"
   ]
  },
  {
   "cell_type": "markdown",
   "metadata": {},
   "source": [
    "p-value is high, so we cannot reject hypothesis that the distributions of the two samples are the same\n",
    "i.e. we can't conclude that end-of-month returns have a different distribution to mid-month returns\n",
    "in the sample, mid-month actually provides a higher return, for the same risk (as measured by vol above)"
   ]
  },
  {
   "cell_type": "code",
   "execution_count": 236,
   "metadata": {
    "collapsed": true
   },
   "outputs": [],
   "source": [
    "# using copies of risk metric definitions here\n",
    "# https://github.com/laholmes/risk-adjusted-return/blob/master/app.py\n",
    "import math\n",
    "\n",
    "def vol(returns):\n",
    "    return np.std(returns)\n",
    "\n",
    "def information_ratio(returns, benchmark):\n",
    "    diff = returns - benchmark\n",
    "    return np.mean(diff) / vol(diff)\n",
    "\n",
    "def sortino_ratio(er, returns, rf, target=0):\n",
    "    return (er - rf) / math.sqrt(lpm(returns, target, 2))\n",
    "\n",
    "def lpm(returns, threshold, order):\n",
    "    # this method returns a lower partial moment of the returns\n",
    "    # create an array the same length as returns containing the minimum return threshold\n",
    "    threshold_array = np.empty(len(returns))\n",
    "    threshold_array.fill(threshold)\n",
    "    # calculate the difference between the threshold and the returns\n",
    "    diff = threshold_array - returns\n",
    "    # set the minimum of each to 0\n",
    "    diff = np.clip(diff, a_min=0, a_max=None)\n",
    "\n",
    "    # return the sum of the different to the power of order\n",
    "    return np.sum(diff ** order) / len(returns)"
   ]
  },
  {
   "cell_type": "code",
   "execution_count": 237,
   "metadata": {},
   "outputs": [
    {
     "data": {
      "text/plain": [
       "0.06939488394574753"
      ]
     },
     "execution_count": 237,
     "metadata": {},
     "output_type": "execute_result"
    }
   ],
   "source": [
    "# Sharpe ratio for end-of-month returns\n",
    "data_end_month['Return'].mean() / data_end_month['Return'].std()"
   ]
  },
  {
   "cell_type": "code",
   "execution_count": 238,
   "metadata": {},
   "outputs": [
    {
     "data": {
      "text/plain": [
       "0.15569961984119332"
      ]
     },
     "execution_count": 238,
     "metadata": {},
     "output_type": "execute_result"
    }
   ],
   "source": [
    "# Sharpe ratio for mid-month returns\n",
    "data_mid_month['Return'].mean() / data_mid_month['Return'].std()"
   ]
  },
  {
   "cell_type": "markdown",
   "metadata": {},
   "source": [
    "mid-month has higher return for a similar vol, thus has a higher Sharpe. the density plot indicates the difference in returns. sample size may be an issue here - we only have 5 years of data."
   ]
  },
  {
   "cell_type": "markdown",
   "metadata": {
    "collapsed": true
   },
   "source": [
    "## compare risk ratios to market risk ratios"
   ]
  },
  {
   "cell_type": "code",
   "execution_count": 239,
   "metadata": {},
   "outputs": [
    {
     "data": {
      "text/plain": [
       "0.017220021557417"
      ]
     },
     "execution_count": 239,
     "metadata": {},
     "output_type": "execute_result"
    }
   ],
   "source": [
    "# assume average daily return for S&P500 is 0.04%\n",
    "average_daily = 0.0004\n",
    "information_ratio(data_end_month['Return'], average_daily)"
   ]
  },
  {
   "cell_type": "code",
   "execution_count": 240,
   "metadata": {},
   "outputs": [
    {
     "data": {
      "text/plain": [
       "0.10205324578178519"
      ]
     },
     "execution_count": 240,
     "metadata": {},
     "output_type": "execute_result"
    }
   ],
   "source": [
    "information_ratio(data_mid_month['Return'], average_daily)"
   ]
  },
  {
   "cell_type": "markdown",
   "metadata": {},
   "source": [
    "again, mid-month is higher (we're replacing assumed risk-free rate 0 with expected return from benchmark)"
   ]
  },
  {
   "cell_type": "code",
   "execution_count": 241,
   "metadata": {},
   "outputs": [
    {
     "data": {
      "text/plain": [
       "0.10158503283904703"
      ]
     },
     "execution_count": 241,
     "metadata": {},
     "output_type": "execute_result"
    }
   ],
   "source": [
    "# end-of-month sortino\n",
    "sortino_ratio(data_end_month['Return'].mean(), data_end_month['Return'], 0)"
   ]
  },
  {
   "cell_type": "code",
   "execution_count": 242,
   "metadata": {},
   "outputs": [
    {
     "data": {
      "text/plain": [
       "0.2321567773817286"
      ]
     },
     "execution_count": 242,
     "metadata": {},
     "output_type": "execute_result"
    }
   ],
   "source": [
    "# mid-month sortino\n",
    "sortino_ratio(data_mid_month['Return'].mean(), data_mid_month['Return'], 0)"
   ]
  },
  {
   "cell_type": "markdown",
   "metadata": {},
   "source": [
    "# sortino ratio ignores upside vol, again mid-month figure is roughly double end-of-month figure, \n",
    "# so it looks like downside vol doesn't impact risk on two samples differently. we could hyp test this"
   ]
  }
 ],
 "metadata": {
  "kernelspec": {
   "display_name": "Python 3",
   "language": "python",
   "name": "python3"
  },
  "language_info": {
   "codemirror_mode": {
    "name": "ipython",
    "version": 3
   },
   "file_extension": ".py",
   "mimetype": "text/x-python",
   "name": "python",
   "nbconvert_exporter": "python",
   "pygments_lexer": "ipython3",
   "version": "3.6.1"
  }
 },
 "nbformat": 4,
 "nbformat_minor": 2
}
